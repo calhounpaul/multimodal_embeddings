{
  "cells": [
    {
      "cell_type": "code",
      "execution_count": null,
      "id": "a63a4cb1-1dac-445f-93e6-d2b1d7733ca4",
      "metadata": {
        "id": "a63a4cb1-1dac-445f-93e6-d2b1d7733ca4"
      },
      "outputs": [],
      "source": [
        "!pip install git+https://github.com/huggingface/transformers\n",
        "!pip install qwen-vl-utils\n",
        "!pip install qwen_agent\n",
        "!pip install openai\n",
        "!pip install accelerate bitsandbytes\n",
        "!pip install flash_attn"
      ]
    },
    {
      "cell_type": "code",
      "execution_count": null,
      "id": "9596c50d-80a8-433f-b846-1fbf61145ccc",
      "metadata": {
        "ExecutionIndicator": {
          "show": true
        },
        "execution": {
          "iopub.execute_input": "2025-01-29T12:45:43.968172Z",
          "iopub.status.busy": "2025-01-29T12:45:43.967574Z",
          "iopub.status.idle": "2025-01-29T12:45:44.078096Z",
          "shell.execute_reply": "2025-01-29T12:45:44.077586Z",
          "shell.execute_reply.started": "2025-01-29T12:45:43.968145Z"
        },
        "tags": [],
        "id": "9596c50d-80a8-433f-b846-1fbf61145ccc"
      },
      "outputs": [],
      "source": [
        "# Get Noto font\n",
        "!apt-get install fonts-noto-cjk\n",
        "\n",
        "import os\n",
        "from PIL import Image, ImageDraw, ImageFont\n",
        "import requests\n",
        "from io import BytesIO\n",
        "from bs4 import BeautifulSoup, Tag\n",
        "from pathlib import Path\n",
        "import re\n",
        "\n",
        "# Function to draw bounding boxes and text on images based on HTML content\n",
        "def draw_bbox(image_path, resized_width, resized_height, full_predict):\n",
        "    if image_path.startswith(\"http\"):\n",
        "        response = requests.get(image_path)\n",
        "        image = Image.open(BytesIO(response.content))\n",
        "    else:\n",
        "        image = Image.open(image_path)\n",
        "    original_width = image.width\n",
        "    original_height = image.height\n",
        "\n",
        "    # Parse the provided HTML content\n",
        "    soup = BeautifulSoup(full_predict, 'html.parser')\n",
        "    # Extract all elements that have a 'data-bbox' attribute\n",
        "    elements_with_bbox = soup.find_all(attrs={'data-bbox': True})\n",
        "\n",
        "    filtered_elements = []\n",
        "    for el in elements_with_bbox:\n",
        "        if el.name == 'ol':\n",
        "            continue  # Skip <ol> tags\n",
        "        elif el.name == 'li' and el.parent.name == 'ol':\n",
        "            filtered_elements.append(el)  # Include <li> tags within <ol>\n",
        "        else:\n",
        "            filtered_elements.append(el)  # Include all other elements\n",
        "\n",
        "    font = ImageFont.truetype(\"NotoSansCJK-Regular.ttc\", 20)\n",
        "    draw = ImageDraw.Draw(image)\n",
        "\n",
        "    # Draw bounding boxes and text for each element\n",
        "    for element in filtered_elements:\n",
        "        bbox_str = element['data-bbox']\n",
        "        text = element.get_text(strip=True)\n",
        "        x1, y1, x2, y2 = map(int, bbox_str.split())\n",
        "\n",
        "        # Calculate scaling factors\n",
        "        scale_x = resized_width / original_width\n",
        "        scale_y = resized_height / original_height\n",
        "\n",
        "        # Scale coordinates accordingly\n",
        "        x1_resized = int(x1 / scale_x)\n",
        "        y1_resized = int(y1 / scale_y)\n",
        "        x2_resized = int(x2 / scale_x)\n",
        "        y2_resized = int(y2 / scale_y)\n",
        "\n",
        "        if x1_resized > x2_resized:\n",
        "            x1_resized, x2_resized = x2_resized, x1_resized\n",
        "        if y1_resized > y2_resized:\n",
        "            y1_resized, y2_resized = y2_resized, y1_resized\n",
        "\n",
        "        # Draw bounding box\n",
        "        draw.rectangle([x1_resized, y1_resized, x2_resized, y2_resized], outline='red', width=2)\n",
        "        # Draw associated text\n",
        "        draw.text((x1_resized, y2_resized), text, fill='black', font=font)\n",
        "\n",
        "    # Display the image\n",
        "    image.show()\n",
        "\n",
        "# Function to clean and format HTML content\n",
        "def clean_and_format_html(full_predict):\n",
        "    soup = BeautifulSoup(full_predict, 'html.parser')\n",
        "\n",
        "    # Regular expression pattern to match 'color' styles in style attributes\n",
        "    color_pattern = re.compile(r'\\bcolor:[^;]+;?')\n",
        "\n",
        "    # Find all tags with style attributes and remove 'color' styles\n",
        "    for tag in soup.find_all(style=True):\n",
        "        original_style = tag.get('style', '')\n",
        "        new_style = color_pattern.sub('', original_style)\n",
        "        if not new_style.strip():\n",
        "            del tag['style']\n",
        "        else:\n",
        "            new_style = new_style.rstrip(';')\n",
        "            tag['style'] = new_style\n",
        "\n",
        "    # Remove 'data-bbox' and 'data-polygon' attributes from all tags\n",
        "    for attr in [\"data-bbox\", \"data-polygon\"]:\n",
        "        for tag in soup.find_all(attrs={attr: True}):\n",
        "            del tag[attr]\n",
        "\n",
        "    classes_to_update = ['formula.machine_printed', 'formula.handwritten']\n",
        "    # Update specific class names in div tags\n",
        "    for tag in soup.find_all(class_=True):\n",
        "        if isinstance(tag, Tag) and 'class' in tag.attrs:\n",
        "            new_classes = [cls if cls not in classes_to_update else 'formula' for cls in tag.get('class', [])]\n",
        "            tag['class'] = list(dict.fromkeys(new_classes))  # Deduplicate and update class names\n",
        "\n",
        "    # Clear contents of divs with specific class names and rename their classes\n",
        "    for div in soup.find_all('div', class_='image caption'):\n",
        "        div.clear()\n",
        "        div['class'] = ['image']\n",
        "\n",
        "    classes_to_clean = ['music sheet', 'chemical formula', 'chart']\n",
        "    # Clear contents and remove 'format' attributes of tags with specific class names\n",
        "    for class_name in classes_to_clean:\n",
        "        for tag in soup.find_all(class_=class_name):\n",
        "            if isinstance(tag, Tag):\n",
        "                tag.clear()\n",
        "                if 'format' in tag.attrs:\n",
        "                    del tag['format']\n",
        "\n",
        "    # Manually build the output string\n",
        "    output = []\n",
        "\n",
        "    if soup.body:\n",
        "      for child in soup.body.children:\n",
        "          if isinstance(child, Tag):\n",
        "              output.append(str(child))\n",
        "              output.append('\\n')  # Add newline after each top-level element\n",
        "          elif isinstance(child, str) and not child.strip():\n",
        "              continue  # Ignore whitespace text nodes\n",
        "    complete_html = f\"\"\"```html\\n<html><body>\\n{\" \".join(output)}</body></html>\\n```\"\"\"\n",
        "    return complete_html"
      ]
    },
    {
      "cell_type": "code",
      "execution_count": null,
      "id": "39512aca-6e26-4fa6-baa4-78047de1f4b1",
      "metadata": {
        "ExecutionIndicator": {
          "show": false
        },
        "execution": {
          "iopub.execute_input": "2025-01-29T12:46:53.421139Z",
          "iopub.status.busy": "2025-01-29T12:46:53.420061Z",
          "iopub.status.idle": "2025-01-29T12:48:21.624042Z",
          "shell.execute_reply": "2025-01-29T12:48:21.623420Z",
          "shell.execute_reply.started": "2025-01-29T12:46:53.421113Z"
        },
        "tags": [],
        "id": "39512aca-6e26-4fa6-baa4-78047de1f4b1"
      },
      "outputs": [],
      "source": [
        "#If accessing via API, you can skip this step and directly use the inference_with_api function.\n",
        "import torch\n",
        "from transformers import Qwen2_5_VLForConditionalGeneration, AutoProcessor\n",
        "model_paramcount_data = {\n",
        "    \"3B\":{\n",
        "        \"4bit\":False,\n",
        "        \"8bit\":False,\n",
        "    },\n",
        "    \"7B\": {\n",
        "        \"4bit\": False,\n",
        "        \"8bit\": True,\n",
        "    },\n",
        "    \"32B\": {\n",
        "        \"4bit\": True,\n",
        "        \"8bit\": False,\n",
        "    }\n",
        "}\n",
        "\n",
        "chosen_paramcount = \"32B\"\n",
        "model_path = \"Qwen/Qwen2.5-VL-\" + chosen_paramcount + \"-Instruct\"\n",
        "model = Qwen2_5_VLForConditionalGeneration.from_pretrained(model_path,\n",
        "          torch_dtype=torch.bfloat16,\n",
        "          attn_implementation=\"flash_attention_2\",\n",
        "          #device_map=\"auto\",\n",
        "          load_in_4bit=model_paramcount_data[chosen_paramcount][\"4bit\"],\n",
        "          load_in_8bit=model_paramcount_data[chosen_paramcount][\"8bit\"],\n",
        "          trust_remote_code=True\n",
        "      )\n",
        "model.eval()\n",
        "\n",
        "processor = AutoProcessor.from_pretrained(model_path)"
      ]
    },
    {
      "cell_type": "markdown",
      "id": "fdc685d1-6332-44f9-9576-be2e37373e15",
      "metadata": {
        "id": "fdc685d1-6332-44f9-9576-be2e37373e15"
      },
      "source": [
        "Load inference"
      ]
    },
    {
      "cell_type": "code",
      "execution_count": null,
      "id": "d43bacc8-c753-4706-bb03-9de777a6c38e",
      "metadata": {
        "ExecutionIndicator": {
          "show": true
        },
        "execution": {
          "iopub.execute_input": "2025-01-27T17:31:50.174495Z",
          "iopub.status.busy": "2025-01-27T17:31:50.173935Z",
          "iopub.status.idle": "2025-01-27T17:31:50.179726Z",
          "shell.execute_reply": "2025-01-27T17:31:50.178929Z",
          "shell.execute_reply.started": "2025-01-27T17:31:50.174473Z"
        },
        "tags": [],
        "id": "d43bacc8-c753-4706-bb03-9de777a6c38e"
      },
      "outputs": [],
      "source": [
        "def inference(img_url, prompt, system_prompt=\"You are a helpful assistant\", max_new_tokens=64000):\n",
        "  image = Image.open(img_url)\n",
        "  messages = [\n",
        "    {\n",
        "      \"role\": \"system\",\n",
        "      \"content\": system_prompt\n",
        "    },\n",
        "    {\n",
        "      \"role\": \"user\",\n",
        "      \"content\": [\n",
        "        {\n",
        "          \"type\": \"text\",\n",
        "          \"text\": prompt\n",
        "        },\n",
        "        {\n",
        "          \"image\": img_url\n",
        "        }\n",
        "      ]\n",
        "    }\n",
        "  ]\n",
        "  text = processor.apply_chat_template(messages, tokenize=False, add_generation_prompt=True)\n",
        "  print(\"input:\\n\",text)\n",
        "  inputs = processor(text=[text], images=[image], padding=True, return_tensors=\"pt\").to('cuda')\n",
        "\n",
        "  output_ids = model.generate(**inputs, max_new_tokens=1024)\n",
        "  generated_ids = [output_ids[len(input_ids):] for input_ids, output_ids in zip(inputs.input_ids, output_ids)]\n",
        "  output_text = processor.batch_decode(generated_ids, skip_special_tokens=True, clean_up_tokenization_spaces=True)\n",
        "  print(\"output:\\n\",output_text[0])\n",
        "\n",
        "  input_height = inputs['image_grid_thw'][0][1]*14\n",
        "  input_width = inputs['image_grid_thw'][0][2]*14\n",
        "\n",
        "  return output_text[0], input_height, input_width"
      ]
    },
    {
      "cell_type": "code",
      "source": [
        "#!git clone https://github.com/QwenLM/Qwen2.5-VL\n",
        "!git clone https://github.com/calhounpaul/multimodal_embeddings"
      ],
      "metadata": {
        "id": "1yukqiHdbTtc"
      },
      "id": "1yukqiHdbTtc",
      "execution_count": null,
      "outputs": []
    },
    {
      "cell_type": "code",
      "source": [
        "#!mv Qwen2.5-VL/cookbooks/assets ./\n",
        "!mv multimodal_embeddings/newspaper_images ./"
      ],
      "metadata": {
        "id": "m4aDY9gkbaFN"
      },
      "id": "m4aDY9gkbaFN",
      "execution_count": null,
      "outputs": []
    },
    {
      "cell_type": "code",
      "execution_count": null,
      "id": "7f5e9daa-0a50-4ca0-9597-6baf8da7b056",
      "metadata": {
        "ExecutionIndicator": {
          "show": false
        },
        "execution": {
          "iopub.execute_input": "2025-01-29T12:49:06.166848Z",
          "iopub.status.busy": "2025-01-29T12:49:06.166075Z",
          "iopub.status.idle": "2025-01-29T12:49:39.051337Z",
          "shell.execute_reply": "2025-01-29T12:49:39.050709Z",
          "shell.execute_reply.started": "2025-01-29T12:49:06.166816Z"
        },
        "tags": [],
        "id": "7f5e9daa-0a50-4ca0-9597-6baf8da7b056"
      },
      "outputs": [],
      "source": [
        "#img_url = \"assets/document_parsing/docparsing_example6.png\"\n",
        "#img_url = \"newspaper_images/Chicago IL Draugas 1978 00284_1.pdf_272a4fdf55_page_0000.png\"\n",
        "img_url = \"newspaper_images/Aberdeen MS Aberdeen Weekly 1920 07-02_0010.pdf_a8c7630f9a_page_0000.png\"\n",
        "image = Image.open(img_url)\n",
        "\n",
        "system_prompt=\"You are an AI specialized in recognizing and extracting text from images. Your mission is to analyze the image document and generate the result in QwenVL Document Parser HTML format using specified tags while maintaining user privacy and data integrity.\"\n",
        "prompt =  \"QwenVL HTML \"\n",
        "\n",
        "## Use a local HuggingFace model to inference.\n",
        "output, input_height, input_width = inference(img_url, prompt)\n",
        "\n",
        "\n",
        "# Visualization\n",
        "print(input_height, input_width)\n",
        "print(output)"
      ]
    },
    {
      "cell_type": "code",
      "source": [
        "draw_bbox(img_url, input_width, input_height, output)\n",
        "\n",
        "ordinary_html = clean_and_format_html(output)\n",
        "print(ordinary_html)"
      ],
      "metadata": {
        "id": "cV830xZKcaWW"
      },
      "id": "cV830xZKcaWW",
      "execution_count": null,
      "outputs": []
    },
    {
      "cell_type": "markdown",
      "id": "28eb9e78-6f43-49d0-8d70-e8ad73d5569b",
      "metadata": {
        "execution": {
          "iopub.execute_input": "2025-01-26T08:15:50.659692Z",
          "iopub.status.busy": "2025-01-26T08:15:50.659437Z",
          "iopub.status.idle": "2025-01-26T08:15:50.667425Z",
          "shell.execute_reply": "2025-01-26T08:15:50.666695Z",
          "shell.execute_reply.started": "2025-01-26T08:15:50.659673Z"
        },
        "tags": [],
        "id": "28eb9e78-6f43-49d0-8d70-e8ad73d5569b"
      },
      "source": [
        "#### 2. Generate ordinary html with Qwen2.5-VL"
      ]
    },
    {
      "cell_type": "code",
      "execution_count": null,
      "id": "6a80f722",
      "metadata": {
        "ExecutionIndicator": {
          "show": false
        },
        "execution": {
          "iopub.execute_input": "2025-01-27T17:38:28.643173Z",
          "iopub.status.busy": "2025-01-27T17:38:28.643000Z",
          "iopub.status.idle": "2025-01-27T17:40:59.097784Z",
          "shell.execute_reply": "2025-01-27T17:40:59.097065Z",
          "shell.execute_reply.started": "2025-01-27T17:38:28.643158Z"
        },
        "tags": [],
        "id": "6a80f722"
      },
      "outputs": [],
      "source": [
        "# generate ordinary html\n",
        "\n",
        "img_url = \"assets/document_parsing/docparsing_example5.png\"\n",
        "prompt = \"图片解析成html\"\n",
        "image = Image.open(img_url)\n",
        "\n",
        "## Use a local HuggingFace model to inference.\n",
        "output, input_height, input_width = inference(img_url, prompt)\n",
        "print(output)"
      ]
    }
  ],
  "metadata": {
    "kernelspec": {
      "display_name": "Python 3",
      "name": "python3"
    },
    "language_info": {
      "codemirror_mode": {
        "name": "ipython",
        "version": 3
      },
      "file_extension": ".py",
      "mimetype": "text/x-python",
      "name": "python",
      "nbconvert_exporter": "python",
      "pygments_lexer": "ipython3",
      "version": "3.10.13"
    },
    "colab": {
      "provenance": [],
      "machine_shape": "hm",
      "gpuType": "A100"
    },
    "accelerator": "GPU"
  },
  "nbformat": 4,
  "nbformat_minor": 5
}